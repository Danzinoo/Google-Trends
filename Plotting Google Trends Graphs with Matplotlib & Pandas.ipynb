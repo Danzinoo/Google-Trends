{
 "cells": [
  {
   "cell_type": "code",
   "execution_count": 14,
   "id": "dcab1543",
   "metadata": {},
   "outputs": [
    {
     "name": "stdout",
     "output_type": "stream",
     "text": [
      "Requirement already satisfied: pytrends in c:\\users\\da-92\\anaconda3\\envs\\pyenv\\lib\\site-packages (4.7.3)\n",
      "Requirement already satisfied: requests in c:\\users\\da-92\\anaconda3\\envs\\pyenv\\lib\\site-packages (from pytrends) (2.25.1)\n",
      "Requirement already satisfied: pandas>=0.25 in c:\\users\\da-92\\anaconda3\\envs\\pyenv\\lib\\site-packages (from pytrends) (1.2.4)\n",
      "Requirement already satisfied: lxml in c:\\users\\da-92\\anaconda3\\envs\\pyenv\\lib\\site-packages (from pytrends) (4.6.3)\n",
      "Requirement already satisfied: pytz>=2017.3 in c:\\users\\da-92\\anaconda3\\envs\\pyenv\\lib\\site-packages (from pandas>=0.25->pytrends) (2021.1)\n",
      "Requirement already satisfied: python-dateutil>=2.7.3 in c:\\users\\da-92\\anaconda3\\envs\\pyenv\\lib\\site-packages (from pandas>=0.25->pytrends) (2.8.1)\n",
      "Requirement already satisfied: numpy>=1.16.5 in c:\\users\\da-92\\anaconda3\\envs\\pyenv\\lib\\site-packages (from pandas>=0.25->pytrends) (1.20.1)\n",
      "Requirement already satisfied: six>=1.5 in c:\\users\\da-92\\anaconda3\\envs\\pyenv\\lib\\site-packages (from python-dateutil>=2.7.3->pandas>=0.25->pytrends) (1.15.0)\n",
      "Requirement already satisfied: chardet<5,>=3.0.2 in c:\\users\\da-92\\anaconda3\\envs\\pyenv\\lib\\site-packages (from requests->pytrends) (4.0.0)\n",
      "Requirement already satisfied: idna<3,>=2.5 in c:\\users\\da-92\\anaconda3\\envs\\pyenv\\lib\\site-packages (from requests->pytrends) (2.10)\n",
      "Requirement already satisfied: urllib3<1.27,>=1.21.1 in c:\\users\\da-92\\anaconda3\\envs\\pyenv\\lib\\site-packages (from requests->pytrends) (1.26.4)\n",
      "Requirement already satisfied: certifi>=2017.4.17 in c:\\users\\da-92\\anaconda3\\envs\\pyenv\\lib\\site-packages (from requests->pytrends) (2020.12.5)\n",
      "Note: you may need to restart the kernel to use updated packages.\n"
     ]
    }
   ],
   "source": [
    "pip install pytrends\n"
   ]
  },
  {
   "cell_type": "code",
   "execution_count": 15,
   "id": "120026d2",
   "metadata": {},
   "outputs": [],
   "source": [
    "\n",
    "from pytrends.request import TrendReq\n",
    "\n",
    "#make a pytrends object to request Google Trends data\n",
    "pytrends = TrendReq(hl='en-US')     \n",
    "                \n",
    "#extract data about weekly searches of certain keywords\n",
    "keywords = [\"Python\", \"R\", \"C++\", \"Java\", \"HTML\"]\n",
    "pytrends.build_payload(keywords, timeframe='today 5-y')\n",
    "\n"
   ]
  },
  {
   "cell_type": "code",
   "execution_count": 17,
   "id": "5ef46f2f",
   "metadata": {
    "scrolled": true
   },
   "outputs": [
    {
     "data": {
      "text/html": [
       "<div>\n",
       "<style scoped>\n",
       "    .dataframe tbody tr th:only-of-type {\n",
       "        vertical-align: middle;\n",
       "    }\n",
       "\n",
       "    .dataframe tbody tr th {\n",
       "        vertical-align: top;\n",
       "    }\n",
       "\n",
       "    .dataframe thead th {\n",
       "        text-align: right;\n",
       "    }\n",
       "</style>\n",
       "<table border=\"1\" class=\"dataframe\">\n",
       "  <thead>\n",
       "    <tr style=\"text-align: right;\">\n",
       "      <th></th>\n",
       "      <th>Python</th>\n",
       "      <th>R</th>\n",
       "      <th>C++</th>\n",
       "      <th>Java</th>\n",
       "      <th>HTML</th>\n",
       "    </tr>\n",
       "    <tr>\n",
       "      <th>date</th>\n",
       "      <th></th>\n",
       "      <th></th>\n",
       "      <th></th>\n",
       "      <th></th>\n",
       "      <th></th>\n",
       "    </tr>\n",
       "  </thead>\n",
       "  <tbody>\n",
       "    <tr>\n",
       "      <th>2016-07-17</th>\n",
       "      <td>14</td>\n",
       "      <td>58</td>\n",
       "      <td>79</td>\n",
       "      <td>34</td>\n",
       "      <td>15</td>\n",
       "    </tr>\n",
       "    <tr>\n",
       "      <th>2016-07-24</th>\n",
       "      <td>14</td>\n",
       "      <td>61</td>\n",
       "      <td>79</td>\n",
       "      <td>33</td>\n",
       "      <td>15</td>\n",
       "    </tr>\n",
       "    <tr>\n",
       "      <th>2016-07-31</th>\n",
       "      <td>14</td>\n",
       "      <td>58</td>\n",
       "      <td>76</td>\n",
       "      <td>33</td>\n",
       "      <td>15</td>\n",
       "    </tr>\n",
       "    <tr>\n",
       "      <th>2016-08-07</th>\n",
       "      <td>13</td>\n",
       "      <td>57</td>\n",
       "      <td>74</td>\n",
       "      <td>33</td>\n",
       "      <td>14</td>\n",
       "    </tr>\n",
       "    <tr>\n",
       "      <th>2016-08-14</th>\n",
       "      <td>12</td>\n",
       "      <td>57</td>\n",
       "      <td>72</td>\n",
       "      <td>30</td>\n",
       "      <td>13</td>\n",
       "    </tr>\n",
       "    <tr>\n",
       "      <th>...</th>\n",
       "      <td>...</td>\n",
       "      <td>...</td>\n",
       "      <td>...</td>\n",
       "      <td>...</td>\n",
       "      <td>...</td>\n",
       "    </tr>\n",
       "    <tr>\n",
       "      <th>2021-06-13</th>\n",
       "      <td>23</td>\n",
       "      <td>46</td>\n",
       "      <td>84</td>\n",
       "      <td>20</td>\n",
       "      <td>10</td>\n",
       "    </tr>\n",
       "    <tr>\n",
       "      <th>2021-06-20</th>\n",
       "      <td>23</td>\n",
       "      <td>47</td>\n",
       "      <td>85</td>\n",
       "      <td>19</td>\n",
       "      <td>10</td>\n",
       "    </tr>\n",
       "    <tr>\n",
       "      <th>2021-06-27</th>\n",
       "      <td>21</td>\n",
       "      <td>45</td>\n",
       "      <td>85</td>\n",
       "      <td>19</td>\n",
       "      <td>10</td>\n",
       "    </tr>\n",
       "    <tr>\n",
       "      <th>2021-07-04</th>\n",
       "      <td>22</td>\n",
       "      <td>71</td>\n",
       "      <td>87</td>\n",
       "      <td>18</td>\n",
       "      <td>9</td>\n",
       "    </tr>\n",
       "    <tr>\n",
       "      <th>2021-07-11</th>\n",
       "      <td>19</td>\n",
       "      <td>51</td>\n",
       "      <td>81</td>\n",
       "      <td>16</td>\n",
       "      <td>8</td>\n",
       "    </tr>\n",
       "  </tbody>\n",
       "</table>\n",
       "<p>261 rows × 5 columns</p>\n",
       "</div>"
      ],
      "text/plain": [
       "            Python   R  C++  Java  HTML\n",
       "date                                   \n",
       "2016-07-17      14  58   79    34    15\n",
       "2016-07-24      14  61   79    33    15\n",
       "2016-07-31      14  58   76    33    15\n",
       "2016-08-07      13  57   74    33    14\n",
       "2016-08-14      12  57   72    30    13\n",
       "...            ...  ..  ...   ...   ...\n",
       "2021-06-13      23  46   84    20    10\n",
       "2021-06-20      23  47   85    19    10\n",
       "2021-06-27      21  45   85    19    10\n",
       "2021-07-04      22  71   87    18     9\n",
       "2021-07-11      19  51   81    16     8\n",
       "\n",
       "[261 rows x 5 columns]"
      ]
     },
     "execution_count": 17,
     "metadata": {},
     "output_type": "execute_result"
    }
   ],
   "source": [
    "#store kewords data\n",
    "data = pytrends.interest_over_time()\n",
    "data = data.drop('isPartial', axis=1)\n",
    "\n",
    "data\n"
   ]
  },
  {
   "cell_type": "code",
   "execution_count": null,
   "id": "c4d04a59",
   "metadata": {},
   "outputs": [],
   "source": [
    "type(data)"
   ]
  },
  {
   "cell_type": "code",
   "execution_count": 19,
   "id": "50d4370f",
   "metadata": {},
   "outputs": [
    {
     "data": {
      "image/png": "[encoded data removed]",
      "text/plain": [
       "<Figure size 432x288 with 1 Axes>"
      ]
     },
     "metadata": {
      "needs_background": "light"
     },
     "output_type": "display_data"
    }
   ],
   "source": [
    "#Plot data \n",
    "import matplotlib.pyplot as plt \n",
    "\n",
    "plt.plot(data)\n",
    "\n",
    "#add tittles \n",
    "plt.suptitle('Programming lanaguages searches on Google')\n",
    "plt.xlabel('Years')\n",
    "plt.ylabel('weekly Searches')\n",
    "\n",
    "#add legend\n",
    "plt.legend(keywords, loc='upper left')\n",
    "plt.savefig('data.png')\n"
   ]
  },
  {
   "cell_type": "code",
   "execution_count": 26,
   "id": "01265eb4",
   "metadata": {},
   "outputs": [
    {
     "data": {
      "text/plain": [
       "<matplotlib.legend.Legend at 0x18dcba4beb0>"
      ]
     },
     "execution_count": 26,
     "metadata": {},
     "output_type": "execute_result"
    },
    {
     "data": {
      "image/png": "[encoded data removed]",
      "text/plain": [
       "<Figure size 432x288 with 1 Axes>"
      ]
     },
     "metadata": {
      "needs_background": "light"
     },
     "output_type": "display_data"
    }
   ],
   "source": [
    "#Analayse data \n",
    "focus =['Python', 'HTML']\n",
    "\n",
    "plt.plot(data[focus])\n",
    "plt.legend(focus)"
   ]
  },
  {
   "cell_type": "code",
   "execution_count": 36,
   "id": "21c5ce9d",
   "metadata": {},
   "outputs": [
    {
     "data": {
      "text/html": [
       "<div>\n",
       "<style scoped>\n",
       "    .dataframe tbody tr th:only-of-type {\n",
       "        vertical-align: middle;\n",
       "    }\n",
       "\n",
       "    .dataframe tbody tr th {\n",
       "        vertical-align: top;\n",
       "    }\n",
       "\n",
       "    .dataframe thead th {\n",
       "        text-align: right;\n",
       "    }\n",
       "</style>\n",
       "<table border=\"1\" class=\"dataframe\">\n",
       "  <thead>\n",
       "    <tr style=\"text-align: right;\">\n",
       "      <th></th>\n",
       "      <th>Python</th>\n",
       "    </tr>\n",
       "    <tr>\n",
       "      <th>geoName</th>\n",
       "      <th></th>\n",
       "    </tr>\n",
       "  </thead>\n",
       "  <tbody>\n",
       "    <tr>\n",
       "      <th>China</th>\n",
       "      <td>48</td>\n",
       "    </tr>\n",
       "    <tr>\n",
       "      <th>Israel</th>\n",
       "      <td>35</td>\n",
       "    </tr>\n",
       "    <tr>\n",
       "      <th>St. Helena</th>\n",
       "      <td>28</td>\n",
       "    </tr>\n",
       "    <tr>\n",
       "      <th>South Korea</th>\n",
       "      <td>24</td>\n",
       "    </tr>\n",
       "    <tr>\n",
       "      <th>Singapore</th>\n",
       "      <td>23</td>\n",
       "    </tr>\n",
       "    <tr>\n",
       "      <th>Eritrea</th>\n",
       "      <td>20</td>\n",
       "    </tr>\n",
       "    <tr>\n",
       "      <th>Hong Kong</th>\n",
       "      <td>20</td>\n",
       "    </tr>\n",
       "    <tr>\n",
       "      <th>Iceland</th>\n",
       "      <td>20</td>\n",
       "    </tr>\n",
       "    <tr>\n",
       "      <th>Russia</th>\n",
       "      <td>20</td>\n",
       "    </tr>\n",
       "    <tr>\n",
       "      <th>Taiwan</th>\n",
       "      <td>20</td>\n",
       "    </tr>\n",
       "  </tbody>\n",
       "</table>\n",
       "</div>"
      ],
      "text/plain": [
       "             Python\n",
       "geoName            \n",
       "China            48\n",
       "Israel           35\n",
       "St. Helena       28\n",
       "South Korea      24\n",
       "Singapore        23\n",
       "Eritrea          20\n",
       "Hong Kong        20\n",
       "Iceland          20\n",
       "Russia           20\n",
       "Taiwan           20"
      ]
     },
     "execution_count": 36,
     "metadata": {},
     "output_type": "execute_result"
    }
   ],
   "source": [
    "import pandas as pd\n",
    "\n",
    "#extract country-level kewords search data\n",
    "country_data = pytrends.interest_by_region(resolution='COUNTRY', inc_low_vol=True)\n",
    "\n",
    "#get countries with the highest searches of \"Python\"\n",
    "data2 = country_data['Python'].nlargest(10)\n",
    "\n",
    "#convert to dataframe\n",
    "data2 = data2.to_frame()\n",
    "\n",
    "data2"
   ]
  },
  {
   "cell_type": "code",
   "execution_count": 34,
   "id": "fefd2223",
   "metadata": {},
   "outputs": [
    {
     "data": {
      "text/plain": [
       "pandas.core.series.Series"
      ]
     },
     "execution_count": 34,
     "metadata": {},
     "output_type": "execute_result"
    }
   ],
   "source": [
    "type(data2)\n"
   ]
  },
  {
   "cell_type": "code",
   "execution_count": 37,
   "id": "f18e0b30",
   "metadata": {},
   "outputs": [
    {
     "data": {
      "image/png": "[encoded data removed]",
      "text/plain": [
       "<Figure size 432x288 with 1 Axes>"
      ]
     },
     "metadata": {
      "needs_background": "light"
     },
     "output_type": "display_data"
    }
   ],
   "source": [
    "# PLOT BAR CHART WITH PANDAS\n",
    "data2.plot(kind='bar')\n",
    "\n",
    "#\n",
    "plt.suptitle('Python searches per country')\n",
    "plt.xlabel('Countries')\n",
    "plt.ylabel('Average number of searches over 5 years')\n",
    "\n",
    "plt.show()\n"
   ]
  },
  {
   "cell_type": "code",
   "execution_count": 44,
   "id": "00f5af9b",
   "metadata": {},
   "outputs": [
    {
     "data": {
      "text/html": [
       "<div>\n",
       "<style scoped>\n",
       "    .dataframe tbody tr th:only-of-type {\n",
       "        vertical-align: middle;\n",
       "    }\n",
       "\n",
       "    .dataframe tbody tr th {\n",
       "        vertical-align: top;\n",
       "    }\n",
       "\n",
       "    .dataframe thead th {\n",
       "        text-align: right;\n",
       "    }\n",
       "</style>\n",
       "<table border=\"1\" class=\"dataframe\">\n",
       "  <thead>\n",
       "    <tr style=\"text-align: right;\">\n",
       "      <th></th>\n",
       "      <th>Python</th>\n",
       "      <th>R</th>\n",
       "      <th>C++</th>\n",
       "      <th>Java</th>\n",
       "      <th>HTML</th>\n",
       "    </tr>\n",
       "    <tr>\n",
       "      <th>geoName</th>\n",
       "      <th></th>\n",
       "      <th></th>\n",
       "      <th></th>\n",
       "      <th></th>\n",
       "      <th></th>\n",
       "    </tr>\n",
       "  </thead>\n",
       "  <tbody>\n",
       "    <tr>\n",
       "      <th>Caribbean Netherlands</th>\n",
       "      <td>5</td>\n",
       "      <td>32</td>\n",
       "      <td>52</td>\n",
       "      <td>8</td>\n",
       "      <td>3</td>\n",
       "    </tr>\n",
       "    <tr>\n",
       "      <th>Cayman Islands</th>\n",
       "      <td>6</td>\n",
       "      <td>30</td>\n",
       "      <td>53</td>\n",
       "      <td>5</td>\n",
       "      <td>6</td>\n",
       "    </tr>\n",
       "    <tr>\n",
       "      <th>Central African Republic</th>\n",
       "      <td>0</td>\n",
       "      <td>28</td>\n",
       "      <td>50</td>\n",
       "      <td>22</td>\n",
       "      <td>0</td>\n",
       "    </tr>\n",
       "    <tr>\n",
       "      <th>Chad</th>\n",
       "      <td>3</td>\n",
       "      <td>26</td>\n",
       "      <td>53</td>\n",
       "      <td>15</td>\n",
       "      <td>3</td>\n",
       "    </tr>\n",
       "    <tr>\n",
       "      <th>Chile</th>\n",
       "      <td>11</td>\n",
       "      <td>23</td>\n",
       "      <td>48</td>\n",
       "      <td>11</td>\n",
       "      <td>7</td>\n",
       "    </tr>\n",
       "    <tr>\n",
       "      <th>China</th>\n",
       "      <td>48</td>\n",
       "      <td>6</td>\n",
       "      <td>11</td>\n",
       "      <td>29</td>\n",
       "      <td>6</td>\n",
       "    </tr>\n",
       "    <tr>\n",
       "      <th>Christmas Island</th>\n",
       "      <td>0</td>\n",
       "      <td>0</td>\n",
       "      <td>0</td>\n",
       "      <td>0</td>\n",
       "      <td>0</td>\n",
       "    </tr>\n",
       "    <tr>\n",
       "      <th>Cocos (Keeling) Islands</th>\n",
       "      <td>0</td>\n",
       "      <td>0</td>\n",
       "      <td>0</td>\n",
       "      <td>0</td>\n",
       "      <td>0</td>\n",
       "    </tr>\n",
       "    <tr>\n",
       "      <th>Colombia</th>\n",
       "      <td>7</td>\n",
       "      <td>24</td>\n",
       "      <td>45</td>\n",
       "      <td>14</td>\n",
       "      <td>10</td>\n",
       "    </tr>\n",
       "    <tr>\n",
       "      <th>Comoros</th>\n",
       "      <td>0</td>\n",
       "      <td>17</td>\n",
       "      <td>71</td>\n",
       "      <td>12</td>\n",
       "      <td>0</td>\n",
       "    </tr>\n",
       "    <tr>\n",
       "      <th>Congo - Brazzaville</th>\n",
       "      <td>4</td>\n",
       "      <td>20</td>\n",
       "      <td>49</td>\n",
       "      <td>20</td>\n",
       "      <td>7</td>\n",
       "    </tr>\n",
       "    <tr>\n",
       "      <th>Congo - Kinshasa</th>\n",
       "      <td>2</td>\n",
       "      <td>28</td>\n",
       "      <td>47</td>\n",
       "      <td>20</td>\n",
       "      <td>3</td>\n",
       "    </tr>\n",
       "    <tr>\n",
       "      <th>Cook Islands</th>\n",
       "      <td>0</td>\n",
       "      <td>16</td>\n",
       "      <td>84</td>\n",
       "      <td>0</td>\n",
       "      <td>0</td>\n",
       "    </tr>\n",
       "    <tr>\n",
       "      <th>Costa Rica</th>\n",
       "      <td>9</td>\n",
       "      <td>26</td>\n",
       "      <td>39</td>\n",
       "      <td>17</td>\n",
       "      <td>9</td>\n",
       "    </tr>\n",
       "    <tr>\n",
       "      <th>Croatia</th>\n",
       "      <td>12</td>\n",
       "      <td>23</td>\n",
       "      <td>45</td>\n",
       "      <td>13</td>\n",
       "      <td>7</td>\n",
       "    </tr>\n",
       "    <tr>\n",
       "      <th>Cuba</th>\n",
       "      <td>18</td>\n",
       "      <td>14</td>\n",
       "      <td>36</td>\n",
       "      <td>20</td>\n",
       "      <td>12</td>\n",
       "    </tr>\n",
       "    <tr>\n",
       "      <th>Curaçao</th>\n",
       "      <td>8</td>\n",
       "      <td>33</td>\n",
       "      <td>45</td>\n",
       "      <td>7</td>\n",
       "      <td>7</td>\n",
       "    </tr>\n",
       "    <tr>\n",
       "      <th>Cyprus</th>\n",
       "      <td>13</td>\n",
       "      <td>23</td>\n",
       "      <td>43</td>\n",
       "      <td>11</td>\n",
       "      <td>10</td>\n",
       "    </tr>\n",
       "    <tr>\n",
       "      <th>Czechia</th>\n",
       "      <td>14</td>\n",
       "      <td>23</td>\n",
       "      <td>40</td>\n",
       "      <td>14</td>\n",
       "      <td>9</td>\n",
       "    </tr>\n",
       "    <tr>\n",
       "      <th>Côte d’Ivoire</th>\n",
       "      <td>6</td>\n",
       "      <td>15</td>\n",
       "      <td>50</td>\n",
       "      <td>23</td>\n",
       "      <td>6</td>\n",
       "    </tr>\n",
       "  </tbody>\n",
       "</table>\n",
       "</div>"
      ],
      "text/plain": [
       "                          Python   R  C++  Java  HTML\n",
       "geoName                                              \n",
       "Caribbean Netherlands          5  32   52     8     3\n",
       "Cayman Islands                 6  30   53     5     6\n",
       "Central African Republic       0  28   50    22     0\n",
       "Chad                           3  26   53    15     3\n",
       "Chile                         11  23   48    11     7\n",
       "China                         48   6   11    29     6\n",
       "Christmas Island               0   0    0     0     0\n",
       "Cocos (Keeling) Islands        0   0    0     0     0\n",
       "Colombia                       7  24   45    14    10\n",
       "Comoros                        0  17   71    12     0\n",
       "Congo - Brazzaville            4  20   49    20     7\n",
       "Congo - Kinshasa               2  28   47    20     3\n",
       "Cook Islands                   0  16   84     0     0\n",
       "Costa Rica                     9  26   39    17     9\n",
       "Croatia                       12  23   45    13     7\n",
       "Cuba                          18  14   36    20    12\n",
       "Curaçao                        8  33   45     7     7\n",
       "Cyprus                        13  23   43    11    10\n",
       "Czechia                       14  23   40    14     9\n",
       "Côte d’Ivoire                  6  15   50    23     6"
      ]
     },
     "execution_count": 44,
     "metadata": {},
     "output_type": "execute_result"
    }
   ],
   "source": [
    "#Plot a bar chart with multiple keywords \n",
    "data3 = pytrends.interest_by_region(resolution='COUNTRY', inc_low_vol=True)\n",
    "data3 = data3[40:60]  #Random ocuntries between 40-60 (20 countries)\n",
    "data3\n"
   ]
  },
  {
   "cell_type": "code",
   "execution_count": 42,
   "id": "49a9be39",
   "metadata": {},
   "outputs": [
    {
     "data": {
      "text/plain": [
       "<AxesSubplot:xlabel='geoName'>"
      ]
     },
     "execution_count": 42,
     "metadata": {},
     "output_type": "execute_result"
    },
    {
     "data": {
      "image/png": "[encoded data removed]",
      "text/plain": [
       "<Figure size 432x288 with 1 Axes>"
      ]
     },
     "metadata": {
      "needs_background": "light"
     },
     "output_type": "display_data"
    }
   ],
   "source": [
    "data3.plot(kind='bar')"
   ]
  },
  {
   "cell_type": "code",
   "execution_count": null,
   "id": "c329c251",
   "metadata": {},
   "outputs": [],
   "source": []
  }
 ],
 "metadata": {
  "kernelspec": {
   "display_name": "Python 3",
   "language": "python",
   "name": "python3"
  },
  "language_info": {
   "codemirror_mode": {
    "name": "ipython",
    "version": 3
   },
   "file_extension": ".py",
   "mimetype": "text/x-python",
   "name": "python",
   "nbconvert_exporter": "python",
   "pygments_lexer": "ipython3",
   "version": "3.9.4"
  }
 },
 "nbformat": 4,
 "nbformat_minor": 5
}
